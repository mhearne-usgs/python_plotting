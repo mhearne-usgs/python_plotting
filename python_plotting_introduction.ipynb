{
 "cells": [
  {
   "cell_type": "code",
   "execution_count": null,
   "id": "c89299dd",
   "metadata": {},
   "outputs": [],
   "source": [
    "%matplotlib inline"
   ]
  },
  {
   "cell_type": "code",
   "execution_count": null,
   "id": "21d1ecec",
   "metadata": {},
   "outputs": [],
   "source": [
    "# stdlib imports\n",
    "import json\n",
    "import warnings\n",
    "\n",
    "# third party imports\n",
    "import matplotlib.pyplot as plt\n",
    "import matplotlib\n",
    "from mpl_toolkits.axes_grid1 import make_axes_locatable\n",
    "import matplotlib.ticker as mticker\n",
    "\n",
    "from IPython.display import Image\n",
    "import cartopy.crs as ccrs\n",
    "from cartopy.mpl.gridliner import LONGITUDE_FORMATTER, LATITUDE_FORMATTER\n",
    "import cartopy.feature as cfeature\n",
    "\n",
    "import numpy as np\n",
    "import pandas as pd\n",
    "from scipy import stats"
   ]
  },
  {
   "cell_type": "markdown",
   "id": "6a457504",
   "metadata": {},
   "source": [
    "# Anatomy of a Matplotlib Plot\n",
    "\n",
    "You will notice in the figure below various annotated elements. We can programmatically control all of these using matplotlib functions."
   ]
  },
  {
   "cell_type": "code",
   "execution_count": null,
   "id": "ce0bb835",
   "metadata": {},
   "outputs": [],
   "source": [
    "Image(filename='sample_figure_annotated.png')"
   ]
  },
  {
   "cell_type": "markdown",
   "id": "64141063",
   "metadata": {},
   "source": [
    "## Code\n",
    "\n",
    "The code below demonstrates how the plot above was made (minus the annotation, which was done manually).\n",
    "\n",
    "Note that we're saving the figure to the PDF (vector) format. Most of the time, you should be fairly safe in assuming that you can save to the following formats:\n",
    " - png Portable Network Graphics, a small and loss-less raster format\n",
    " - pdf Portable Document Format, a vector format\n",
    " - ps Postscript, the original vector format, works well with Illustrator and the like\n",
    " - eps Encapsulated Postscript, an extension of postscript \n",
    " - svg Scalable Vector Graphics XML-based vector format.\n",
    " \n",
    "Note that vector formats are scalable without losing resolution, whereas raster formats are composed of pixels that you will see clearly as you zoom in on the figure. PNG is small and well suited for web pages, for example."
   ]
  },
  {
   "cell_type": "code",
   "execution_count": null,
   "id": "4a8cb727",
   "metadata": {
    "scrolled": false
   },
   "outputs": [],
   "source": [
    "f = plt.figure(figsize=(20,10))\n",
    "x = np.arange(1,101)\n",
    "y = np.sin(x/4) * 100\n",
    "line2d = plt.plot(x,y)\n",
    "xlabel = plt.xlabel('Time', fontsize=18);\n",
    "ylabel = plt.ylabel('Amplitude', fontsize=18);\n",
    "title = plt.title('Response over Time', fontsize=18);\n",
    "\n",
    "plt.xticks(fontsize=14)\n",
    "plt.yticks(fontsize=14)\n",
    "\n",
    "plt.legend(['Instrument Response'], fontsize=18);\n",
    "plt.tight_layout()\n",
    "\n",
    "# Note here that we can save the figure to PDF\n",
    "plt.savefig('sample_figure.pdf', dpi=300);"
   ]
  },
  {
   "cell_type": "markdown",
   "id": "f7b33e04",
   "metadata": {},
   "source": [
    "# Colors\n",
    "\n",
    "As matplotlib documentation says:\n",
    "\n",
    "`You can specify colors in many weird and wonderful ways.`\n",
    "\n",
    " - Color abbreviation: 'r', 'g', 'b'\n",
    " - Color name: 'red', 'green', 'blue'\n",
    " - HTML hex color specification: '#ff0000', '#00ff00', '#0000ff'\n",
    " - RGB[A] tuples of values from 0-1: (1,0,0), (0,1,0), (0,0,1)\n",
    "\n",
    "Let's make one plot showing the different ways to specify color"
   ]
  },
  {
   "cell_type": "code",
   "execution_count": null,
   "id": "7a216029",
   "metadata": {},
   "outputs": [],
   "source": [
    "f = plt.figure(figsize=(20,10))\n",
    "x = np.arange(1,101)\n",
    "y1 = np.sin(x/4) * 100\n",
    "y2 = np.sin(x/3) * 100\n",
    "y3 = np.sin(x/5) * 100\n",
    "y4 = np.sin(x/2) * 100\n",
    "\n",
    "line1 = plt.plot(x,y1, color='b') # color abbreviation\n",
    "line2 = plt.plot(x,y2, color='black') # color name\n",
    "line3 = plt.plot(x,y3, color='#eb34db') # hex (HTML) specification\n",
    "line4 = plt.plot(x,y4, color=(0,1,0)) # RGB or RGBA tuples from 0-1"
   ]
  },
  {
   "cell_type": "markdown",
   "id": "e8839f4e",
   "metadata": {},
   "source": [
    "## Wait... What's RGBA?\n",
    "\n",
    "You can optionally specify a fourth color value called `alpha`, which sets the transparency of the thing being plotted. An alpha value of 1 is fully opaque, and an alpha value of 0 is completely transparent."
   ]
  },
  {
   "cell_type": "code",
   "execution_count": null,
   "id": "a7199543",
   "metadata": {},
   "outputs": [],
   "source": [
    "x1 = [0,5,5,0]\n",
    "y1 = [0,0,5,5]\n",
    "\n",
    "x2 = [10,15,15,10]\n",
    "y2 = [0,0,5,5]\n",
    "\n",
    "x3 = [20,25,25,20]\n",
    "y3 = [0,0,5,5]\n",
    "fig = plt.figure(figsize=(15,8))\n",
    "f1 = plt.fill(x1,y1,color='blue', alpha=0.75)\n",
    "f2 = plt.fill(x2,y2,color='blue', alpha=0.50)\n",
    "f3 = plt.fill(x3,y3,color='blue', alpha=0.25)\n",
    "t1 = plt.text(1.5,5.5,'alpha=0.75', fontweight='bold')\n",
    "t2 = plt.text(11.5,5.5,'alpha=0.5', fontweight='bold')\n",
    "t3 = plt.text(21.5,5.5,'alpha=0.25', fontweight='bold')\n",
    "plt.axis('equal');"
   ]
  },
  {
   "cell_type": "markdown",
   "id": "428de9fc",
   "metadata": {},
   "source": [
    "### Quiz 1\n",
    "\n",
    "**Plot x versus y1 and y2 as shown in the line plot above and add a transparent box between 40-60 on the x-axis that spans the lenth of the y-axis.** \n",
    "<details>\n",
    "  <summary>SEE SOLUTION</summary>\n",
    "    \n",
    "```\n",
    "# Define x and y data (can copy from above) & plot\n",
    "x = np.arange(1,101)\n",
    "y1 = np.sin(x/4) * 100\n",
    "y2 = np.sin(x/3) * 100\n",
    "f = plt.figure(figsize=(20,10))\n",
    "plt.plot(x,y1,x,y2)\n",
    "\n",
    "# add transparent box\n",
    "x_box = [40,60,60,40]\n",
    "y_box = [-105,-105,105,105]\n",
    "plt.fill(x_box,y_box,color='red', alpha=0.25)\n",
    "\n",
    "# Bonus: set range for y axis:\n",
    "axes = plt.gca()\n",
    "axes.set_ylim([-105,105])\n",
    "\n",
    "```\n",
    "</details>"
   ]
  },
  {
   "cell_type": "markdown",
   "id": "e533eda7",
   "metadata": {},
   "source": [
    "# Different Types of Plots"
   ]
  },
  {
   "cell_type": "markdown",
   "id": "5c2837aa",
   "metadata": {},
   "source": [
    "## Read in Data\n",
    "\n",
    "Let's use pandas (subject of a future tutorial) to read in 4 days of US earthquake data obtained from ComCat."
   ]
  },
  {
   "cell_type": "code",
   "execution_count": null,
   "id": "0d0310cc",
   "metadata": {},
   "outputs": [],
   "source": [
    "# Read in the data, using the first row as columns, parse the \"time\" and \"updated\" columns as DateTime objects.\n",
    "data = pd.read_csv('eq_query.csv', header=0, parse_dates=['time', 'updated'])\n",
    "\n",
    "# How many earthquakes are in this data set?\n",
    "print(f'{len(data)} events read.')\n",
    "\n",
    "# Display the first five events\n",
    "data.head()"
   ]
  },
  {
   "cell_type": "markdown",
   "id": "aa558a05",
   "metadata": {},
   "source": [
    "## Histogram of Magnitudes\n",
    "\n",
    "Let's plot a histogram of magnitudes from our data set above. Note that this distribution does not look like the theoretical earthquake frequency by magnitude. Explaining this will be left as an exercise for the student."
   ]
  },
  {
   "cell_type": "code",
   "execution_count": null,
   "id": "21b436c2",
   "metadata": {},
   "outputs": [],
   "source": [
    "fig = plt.figure(figsize=(16,8))\n",
    "n, bins, patches = plt.hist(data['mag'], 80, facecolor='b', alpha=0.75)\n",
    "xlabel = plt.xlabel('Earthquake Magnitude')\n",
    "ylabel = plt.ylabel('Number of Earthquakes')\n",
    "start_date = data['time'].min()\n",
    "end_date = data['time'].max()\n",
    "start_str = start_date.strftime('%b %d, %Y')\n",
    "end_str = end_date.strftime('%b %d, %Y')\n",
    "title_string = f'Earthquake Frequency from {start_str} to {end_str}'\n",
    "title = plt.title(title_string)"
   ]
  },
  {
   "cell_type": "markdown",
   "id": "f0588bb3",
   "metadata": {},
   "source": [
    "## Magnitude Error Bars\n",
    "\n",
    "Note here that this magnitude data set has a single magnitude error. The `pyplot.errorbar()` function accepts Y error data with low and high error values for each data point."
   ]
  },
  {
   "cell_type": "code",
   "execution_count": null,
   "id": "50bc5b3a",
   "metadata": {},
   "outputs": [],
   "source": [
    "data = data.sort_values('time')\n",
    "data_short = data.iloc[0:100].copy()\n",
    "data_short['elapsed'] = data_short['time'] - data_short['time'].min()\n",
    "data_short['elapsed'] = data_short['elapsed'] / np.timedelta64(3600, 's')\n",
    "fig = plt.figure(figsize=(16,8))\n",
    "error = plt.errorbar(data_short['elapsed'], data_short['mag'], yerr=data_short['magError'], capsize=5, fmt='b.')\n",
    "timestr = data_short['time'].min().strftime('%Y-%m-%d %H:%M:%S')\n",
    "xlabel = plt.xlabel(f'Elapsed Time since {timestr} (hours)')\n",
    "ylabel = plt.ylabel('Magnitude')\n",
    "title = plt.title('Magnitude with errorbars')"
   ]
  },
  {
   "cell_type": "markdown",
   "id": "04ee5c27",
   "metadata": {},
   "source": [
    "## Filled Polygons & Continuous Error Bars\n",
    "\n",
    "**Use Pandas to read in Wasatch Fault Zone slip rate data (NSHM2023-WasatchFaultSlipRates.csv) & sort by latitude.** This data set is Hatem et al., 2021, Earthquake geology inputs for the National Seismic Hazard Model (NSHM) 2023, version 1.0: U.S. Geological Survey data release, https://doi.org/10.5066/P918XCUU."
   ]
  },
  {
   "cell_type": "code",
   "execution_count": null,
   "id": "d16d3e94",
   "metadata": {},
   "outputs": [],
   "source": [
    "# Read in the data, using the first row as columns\n",
    "slipRates = pd.read_csv('NSHM2023-WasatchFaultSlipRates.csv', header=0)\n",
    "slipRates = slipRates.sort_values('lat')\n",
    "\n",
    "# How many slip rates are there?\n",
    "print(f'{len(slipRates)} slip rates read.')\n",
    "\n",
    "# Display the first five events\n",
    "slipRates.head()"
   ]
  },
  {
   "cell_type": "markdown",
   "id": "aa7c4b34",
   "metadata": {},
   "source": [
    "Plot the slip rates with errors as filled polygons."
   ]
  },
  {
   "cell_type": "code",
   "execution_count": null,
   "id": "37762395",
   "metadata": {},
   "outputs": [],
   "source": [
    "# Plot error bars with upper & lower slip rates, and use a filled polygon to plot continuous error bars\n",
    "fig, ax = plt.subplots(1,1,figsize=(16,8))\n",
    "ax.plot(slipRates['SlipRateID'], slipRates['PrefRate'], 'b')\n",
    "#error = plt.errorbar(slipRates['SlipRateID'], slipRates['PrefRate'], yerr=(slipRates['LowRate'],slipRates['HighRate']), capsize=4, elinewidth=0.25, fmt='b.')\n",
    "ax.fill_between(slipRates['SlipRateID'], slipRates['PrefRate'] - slipRates['LowRate'], slipRates['PrefRate'] + slipRates['HighRate'], alpha=0.2)\n",
    "xlabel = plt.xlabel('Slip Rate ID')\n",
    "ylabel = plt.ylabel('Slip Rate (mm/yr)')\n",
    "title = plt.title('Slip Rate with Continuous Error Bars')\n",
    "# Rotate x axis lables\n",
    "plt.xticks(rotation=45,ha='right');"
   ]
  },
  {
   "cell_type": "markdown",
   "id": "1b3adc4a",
   "metadata": {},
   "source": [
    "## Data as an Image\n",
    "\n",
    "We can plot gridded or raster data in matplotlib using `plt.imshow()`. Let's first load in the [2014 10% probability of exceedance for 1 second spectral acceleration from the National Seismic Hazard Map](https://www.sciencebase.gov/catalog/item/5db9be62e4b06957974eb5ca). \n",
    "\n",
    "The values in my grid are the spectral accelerations at 1 Hz that we have a 10% chance of exceeding sometime in a 50 year period.\n",
    "\n",
    "We'll determine the number of rows and columns by counting number of unique latitudes and longitudes. By inspecting the data, we can determine that the resolution of the data in X and Y is 0.05 degrees. Finally, we'll get the min/max values of the data for use later on."
   ]
  },
  {
   "cell_type": "code",
   "execution_count": null,
   "id": "8d438d81",
   "metadata": {},
   "outputs": [],
   "source": [
    "grid = np.loadtxt('2014_1hz10pct50yrs.dat')\n",
    "nrows = len(np.unique(grid[:,1])) # number of unique latitudes\n",
    "ncols = len(np.unique(grid[:,0])) # number of unique longitudes\n",
    "prob = np.reshape(grid[:,2],(nrows, ncols))\n",
    "# from inspection of the data...\n",
    "dx = 0.05\n",
    "dy = 0.05\n",
    "xmin = grid[:,0].min()\n",
    "ymax = grid[:,1].max()\n",
    "xmax = grid[:,0].max()\n",
    "ymin = grid[:,1].min()"
   ]
  },
  {
   "cell_type": "code",
   "execution_count": null,
   "id": "60f59fe5",
   "metadata": {},
   "outputs": [],
   "source": [
    "figwidth = 20\n",
    "figheight= nrows/ncols * figwidth\n",
    "fig = plt.figure(figsize=(figwidth,figheight))\n",
    "ax = plt.gca()\n",
    "# let's reset the dynamic range of the data so we can see more of the variation in the Midwest.\n",
    "dmean = prob.mean()\n",
    "dstd = prob.std()\n",
    "dmin = dmean - dstd*3\n",
    "dmax = dmean + dstd*3\n",
    "img = plt.imshow(prob, vmin=dmin, vmax=dmax, interpolation='none')\n",
    "divider = make_axes_locatable(ax)\n",
    "cax = divider.append_axes(\"right\", size=\"3%\", pad=0.05)\n",
    "cbar = plt.colorbar(img, cax=cax)\n",
    "\n",
    "plt.sca(ax)\n",
    "tstring = plt.title('2014 SA(1.0sec)')\n",
    "xlabel = plt.xlabel('Pixel columns')\n",
    "ylabel = plt.ylabel('Pixel rows')"
   ]
  },
  {
   "cell_type": "markdown",
   "id": "9cc3b4ca",
   "metadata": {},
   "source": [
    "## ColorMaps\n",
    "\n",
    "There are many colormaps provided by matplotlib - the default one above is `viridis`. This is a good choice because it has a number of desirable properties:\n",
    " - Colorful\n",
    " - Pretty\n",
    " - Sequential\n",
    " - Perceptually uniform (even in black and white)\n",
    " - Accessible to colorblind viewers\n",
    " \n",
    " In case you DON'T think this is pretty, you have many other choices. (You can also make your own).\n",
    " \n",
    " \n",
    " *Note: You can reverse any colormap by appending \"_r\" to the name*"
   ]
  },
  {
   "cell_type": "code",
   "execution_count": null,
   "id": "5cad90e9",
   "metadata": {},
   "outputs": [],
   "source": [
    "figwidth = 20\n",
    "figheight= 10\n",
    "fig, axes = plt.subplots(nrows=2, ncols=2,figsize=(figwidth,figheight))\n",
    "colormaps = [['plasma', 'cividis'], ['Greens_r', 'Reds_r']]\n",
    "# let's reset the dynamic range of the data so we can see more of the variation in the Midwest.\n",
    "dmean = prob.mean()\n",
    "dstd = prob.std()\n",
    "dmin = dmean - dstd*3\n",
    "dmax = dmean + dstd*3\n",
    "for irow in range(0,len(colormaps)):\n",
    "    crow = colormaps[irow]\n",
    "    for icol in range(0,len(crow)):\n",
    "        ax = axes[irow][icol]\n",
    "        cmap = colormaps[irow][icol]\n",
    "        plt.sca(ax)\n",
    "        img = plt.imshow(prob, vmin=dmin, vmax=dmax, interpolation='none', cmap=cmap)\n",
    "        tstring = plt.title(f'{cmap} ColorMap')"
   ]
  },
  {
   "cell_type": "markdown",
   "id": "3dbb4e44",
   "metadata": {},
   "source": [
    "# Making Maps with Cartopy\n",
    "\n",
    "Cartopy is a mapping library based on matplotlib, which supports all of the same features, but adds the ability to draw projected data and make nice looking maps.\n",
    "\n",
    "A GeoAxes is a subclass of the matplotlib Axes class, which has a *projection*. If you add data to this GeoAxes by using one of the standard matplotlib plotting commands (plot(), scatter(), imshow(), etc.) then you must also supply a *transform* keyword to that function telling the GeoAxes what projection the data you are plotting is in.\n",
    "\n",
    "Note that *PlateCarree* is the projection we use to denote latitudes and longitudes (no projection)."
   ]
  },
  {
   "cell_type": "markdown",
   "id": "4d0d97e3",
   "metadata": {},
   "source": [
    "## Scatter Plot"
   ]
  },
  {
   "cell_type": "code",
   "execution_count": null,
   "id": "98aa95b8",
   "metadata": {
    "scrolled": true
   },
   "outputs": [],
   "source": [
    "fig = plt.figure(figsize=(16, 8))\n",
    "ax = fig.add_subplot(1, 1, 1, projection=ccrs.Mercator())\n",
    "\n",
    "# make the map global rather than have it zoom in to\n",
    "# the extents of any plotted data\n",
    "ax.set_global()\n",
    "\n",
    "# ax.stock_img()\n",
    "ax.coastlines()\n",
    "\n",
    "# set extent to just the US\n",
    "ymin, ymax = [24.6, 50] # Latitude\n",
    "xmin, xmax = [-125, -65] # Longitude\n",
    "ax.set_extent((xmin, xmax, ymin, ymax))\n",
    "\n",
    "m = 99\n",
    "b = 10\n",
    "sizes = m*data['mag'] + b\n",
    "\n",
    "points = plt.scatter(x=data['longitude'], y=data['latitude'],\n",
    "            s=sizes,\n",
    "            c=\"red\",\n",
    "            edgecolor='k',\n",
    "            transform=ccrs.PlateCarree()) ## Important\n"
   ]
  },
  {
   "cell_type": "markdown",
   "id": "edbc2ba2",
   "metadata": {},
   "source": [
    "### Quiz 2\n",
    "\n",
    "**Can you use cfeature (Cartopy Features) to add country borders, rivers, lakes, and state borders to the figure above?** [Check out this link for some hints](https://scitools.org.uk/cartopy/docs/v0.16/matplotlib/feature_interface.html). Also, check out [Tutorial 3 from Matlab to Python](https://mybinder.org/v2/gh/khaynie-usgs/matlab_to_python.git/main?filepath=matlab_to_python.ipynb) for some more examples.\n",
    "<details>\n",
    "  <summary>SEE SOLUTION</summary>\n",
    "    \n",
    "```\n",
    "# Add the following to the cell above:\n",
    "ax.add_feature(cfeature.BORDERS, linestyle=':')\n",
    "ax.add_feature(cfeature.RIVERS)\n",
    "ax.add_feature(cfeature.LAKES)\n",
    "ax.add_feature(cfeature.STATES, edgecolor='gray')\n",
    "```\n",
    "</details>"
   ]
  },
  {
   "cell_type": "markdown",
   "id": "d684d95d",
   "metadata": {},
   "source": [
    "## Image (Bonus Subplot!)"
   ]
  },
  {
   "cell_type": "code",
   "execution_count": null,
   "id": "5d2d6599",
   "metadata": {},
   "outputs": [],
   "source": [
    "warnings.filterwarnings(\"ignore\")\n",
    "    \n",
    "figwidth = 20\n",
    "figheight= nrows/ncols * figwidth\n",
    "figheight = 20\n",
    "# use cartopy to draw this data on a map\n",
    "# image extent is xmin, xmax, ymin, ymax\n",
    "img_extent = (xmin, xmax, ymin, ymax)\n",
    "fig = plt.figure(figsize=(figwidth, figheight))\n",
    "geoaxes = plt.subplot(2, 1, 1, projection=ccrs.PlateCarree())\n",
    "# geoaxes.stock_img()\n",
    "img = geoaxes.imshow(prob, vmin=dmin, vmax=dmax, origin='upper', extent=img_extent, transform=ccrs.PlateCarree())\n",
    "geoaxes.coastlines(color='black', lw=2)\n",
    "title = plt.title('2014 SA(1.0sec)')\n",
    "\n",
    "# draw gridlines on the plot\n",
    "gl = geoaxes.gridlines(crs=ccrs.PlateCarree(), draw_labels=True,\n",
    "                  linewidth=2, color='black', alpha=0.5, linestyle='--')\n",
    "gl.top_labels = False\n",
    "gl.right_labels = False\n",
    "gl.xlines = True\n",
    "gl.xformatter = LONGITUDE_FORMATTER\n",
    "gl.yformatter = LATITUDE_FORMATTER\n",
    "\n",
    "m = 99\n",
    "b = 10\n",
    "sizes = m*data['mag'] + b\n",
    "\n",
    "points = plt.scatter(x=data['longitude'], y=data['latitude'],\n",
    "            s=sizes,\n",
    "            c=\"red\",\n",
    "            edgecolor='k',\n",
    "            transform=ccrs.PlateCarree()) ## Important\n",
    "\n",
    "# draw sampling line across peak in the midwest\n",
    "lat = 36.0\n",
    "lon_start = -88\n",
    "lons = np.arange(-92, -88, 0.05)\n",
    "lats = [lat] * len(lons)\n",
    "geoaxes.plot(lons, lats, 'b', transform=ccrs.PlateCarree())\n",
    "\n",
    "geoaxes.set_extent((xmin, xmax, ymin, ymax))\n",
    "\n",
    "# convert those lat/lon values to row/col\n",
    "cols = [int(c) for c in (lons - xmin) / dx]\n",
    "row = int((ymax - lat) / dy)\n",
    "\n",
    "pdata = prob[row, cols]\n",
    "\n",
    "# draw a second plot with the sampled probability on the y axis\n",
    "pltaxes = plt.subplot(2, 1, 2)\n",
    "line2d = pltaxes.plot(lons, pdata, 'b')\n",
    "tstring = plt.title('Transect Across New Madrid Fault')"
   ]
  },
  {
   "cell_type": "markdown",
   "id": "e118e883",
   "metadata": {},
   "source": [
    "# Resources\n",
    "\n",
    " - Matplotlib pyplot documentation: https://matplotlib.org/stable/api/_as_gen/matplotlib.pyplot.html\n",
    " - Matplotlib colormaps: https://matplotlib.org/stable/gallery/color/colormap_reference.html\n",
    " - Cartopy Tutorial: https://coderzcolumn.com/tutorials/data-science/cartopy-basic-maps-scatter-map-bubble-map-and-connection-map#6\n",
    " - YouTube video from Scipy 2015 explaining the history of viridis color map: https://www.youtube.com/watch?v=xAoljeRJ3lU"
   ]
  }
 ],
 "metadata": {
  "kernelspec": {
   "display_name": "Python 3 (ipykernel)",
   "language": "python",
   "name": "python3"
  },
  "language_info": {
   "codemirror_mode": {
    "name": "ipython",
    "version": 3
   },
   "file_extension": ".py",
   "mimetype": "text/x-python",
   "name": "python",
   "nbconvert_exporter": "python",
   "pygments_lexer": "ipython3",
   "version": "3.9.6"
  }
 },
 "nbformat": 4,
 "nbformat_minor": 5
}
